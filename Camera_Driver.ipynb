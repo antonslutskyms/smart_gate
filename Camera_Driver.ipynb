{
 "cells": [
  {
   "cell_type": "code",
   "execution_count": 1,
   "metadata": {},
   "outputs": [],
   "source": [
    "import time\n",
    "import cv2\n",
    "from cv2 import VideoCapture, imwrite\n",
    "import os\n",
    "import datetime\n",
    "\n",
    "prev_gray = None\n",
    "\n",
    "run = True\n",
    "\n",
    "motion_dir = None\n",
    "\n",
    "sleep_tm = 1\n",
    "\n",
    "cam = VideoCapture(0)\n",
    "\n",
    "while run:\n",
    "    \n",
    "    result, image = cam.read() \n",
    "\n",
    "    gray = cv2.cvtColor(image, cv2.COLOR_BGR2GRAY)\n",
    "    #gray = cv2.GaussianBlur(gray, (21, 21), 0)\n",
    "\n",
    "    hist = cv2.calcHist([image], [0, 1, 2], None, [8, 8, 8], [0, 256, 0, 256, 0, 256])\n",
    "    hist = cv2.normalize(hist, hist).flatten()\n",
    "\n",
    "    if prev_gray is not None:\n",
    "        d = cv2.compareHist(hist, prev_gray, cv2.HISTCMP_CORREL)\n",
    "        print(d)\n",
    "        if d < 0.95:\n",
    "            sleep_tm = 1\n",
    "            ts_now = datetime.datetime.now().strftime('%Y-%m-%d_%H-%M-%S')\n",
    "\n",
    "            if motion_dir is None:\n",
    "                motion_dir = f\"motions/motion_{ts_now}\"\n",
    "                os.makedirs(motion_dir)\n",
    "            imwrite(f\"{motion_dir}/event_{ts_now}.png\", image)  \n",
    "            print(\"Motion detected set: \", motion_dir)              \n",
    "                \n",
    "        else:\n",
    "            motion_dir = None\n",
    "            print(\"No motion detected\")\n",
    "            sleep_tm = 2\n",
    "\n",
    "    prev_gray = hist\n",
    "\n",
    "    print(\"Sleeping for 3 seconds\")\n",
    "    time.sleep(sleep_tm)"
   ]
  },
  {
   "cell_type": "code",
   "execution_count": null,
   "metadata": {},
   "outputs": [],
   "source": [
    "!"
   ]
  }
 ],
 "metadata": {
  "kernelspec": {
   "display_name": "many_models",
   "language": "python",
   "name": "python3"
  },
  "language_info": {
   "codemirror_mode": {
    "name": "ipython",
    "version": 3
   },
   "file_extension": ".py",
   "mimetype": "text/x-python",
   "name": "python",
   "nbconvert_exporter": "python",
   "pygments_lexer": "ipython3",
   "version": "3.7.6"
  }
 },
 "nbformat": 4,
 "nbformat_minor": 2
}
