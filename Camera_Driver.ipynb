{
 "cells": [
  {
   "cell_type": "code",
   "execution_count": null,
   "metadata": {},
   "outputs": [],
   "source": [
    "!pip install azure-ai-inference"
   ]
  },
  {
   "cell_type": "code",
   "execution_count": 2,
   "metadata": {},
   "outputs": [],
   "source": [
    "import os\n",
    "from azure.ai.inference import ChatCompletionsClient\n",
    "from azure.core.credentials import AzureKeyCredential\n",
    "\n",
    "client = ChatCompletionsClient(\n",
    "    endpoint=\"https://phi-35-smartgate.eastus.models.ai.azure.com\",\n",
    "    credential=AzureKeyCredential(\"AthQKaZDT3aGiaYYdfPykw5fTMyvKK2W\"),\n",
    ")"
   ]
  },
  {
   "cell_type": "code",
   "execution_count": 3,
   "metadata": {},
   "outputs": [
    {
     "data": {
      "text/plain": [
       "{'id': 'cmpl-93c7d910f2d04b02894c40e2fd50b632', 'object': 'chat.completion', 'created': 1727821951, 'model': 'phi35-vision-instruct', 'choices': [{'index': 0, 'message': {'role': 'assistant', 'content': \" It is difficult to determine the exact number of languages in the world, as language classification is a complex and dynamic field. However, estimates suggest that there are approximately 7,000 languages spoken across the globe. This number is constantly changing as languages evolve, merge, and disappear. The United Nations Educational, Scientific and Cultural Organization (UNESCO) keeps an updated list of the world's endangered and extinct languages, which provides valuable insights into the state of linguistic diversity.\", 'tool_calls': None}, 'finish_reason': 'stop'}], 'usage': {'prompt_tokens': 28, 'total_tokens': 139, 'completion_tokens': 111}}"
      ]
     },
     "execution_count": 3,
     "metadata": {},
     "output_type": "execute_result"
    }
   ],
   "source": [
    "from azure.ai.inference.models import SystemMessage, UserMessage\n",
    "\n",
    "response = client.complete(\n",
    "    messages=[\n",
    "        SystemMessage(content=\"You are a helpful assistant.\"),\n",
    "        UserMessage(content=\"How many languages are in the world?\"),\n",
    "    ],\n",
    ")\n",
    "\n",
    "response"
   ]
  },
  {
   "cell_type": "code",
   "execution_count": null,
   "metadata": {},
   "outputs": [],
   "source": [
    "%set_env SPEECH_KEY=c0aaedf6bb204ddd85adc008a3e08749\n",
    "%set_env SPEECH_REGION=westus"
   ]
  },
  {
   "cell_type": "code",
   "execution_count": null,
   "metadata": {},
   "outputs": [],
   "source": [
    "import azure.cognitiveservices.speech as speechsdk\n",
    "import os\n",
    "# This example requires environment variables named \"SPEECH_KEY\" and \"SPEECH_REGION\"\n",
    "speech_config = speechsdk.SpeechConfig(subscription=os.environ.get('SPEECH_KEY'), region=os.environ.get('SPEECH_REGION'))\n",
    "audio_config = speechsdk.audio.AudioOutputConfig(use_default_speaker=True)\n",
    "\n",
    "# The neural multilingual voice can speak different languages based on the input text.\n",
    "speech_config.speech_synthesis_voice_name='en-US-AvaMultilingualNeural'\n",
    "\n",
    "speech_synthesizer = speechsdk.SpeechSynthesizer(speech_config=speech_config, audio_config=audio_config)\n",
    "speech_synthesizer = speechsdk.SpeechSynthesizer(speech_config=speech_config, audio_config=None)\n",
    "\n",
    "def say_it(text = \"Speech system test\"):\n",
    "#    pass\n",
    "    speech_synthesis_result = speech_synthesizer.speak_text_async(text).get()\n",
    "    \n",
    "    stream = speechsdk.AudioDataStream(speech_synthesis_result)\n",
    "\n",
    "    save_to = f\"no.wav\"\n",
    "    print(\"SaveTO: \", save_to)\n",
    "\n",
    "    stream.save_to_wav_file(save_to)\n",
    "    \n",
    "    if speech_synthesis_result.reason == speechsdk.ResultReason.SynthesizingAudioCompleted:\n",
    "        print(\"Speech synthesized for text [{}]\".format(text))\n",
    "    elif speech_synthesis_result.reason == speechsdk.ResultReason.Canceled:\n",
    "        cancellation_details = speech_synthesis_result.cancellation_details\n",
    "        print(\"Speech synthesis canceled: {}\".format(cancellation_details.reason))\n",
    "        if cancellation_details.reason == speechsdk.CancellationReason.Error:\n",
    "            if cancellation_details.error_details:\n",
    "                print(\"Error details: {}\".format(cancellation_details.error_details))\n",
    "                print(\"Did you set the speech resource key and region values?\")\n",
    "\n",
    "say_it(\"GPT says No\")"
   ]
  }
 ],
 "metadata": {
  "kernelspec": {
   "display_name": "many_models",
   "language": "python",
   "name": "python3"
  },
  "language_info": {
   "codemirror_mode": {
    "name": "ipython",
    "version": 3
   },
   "file_extension": ".py",
   "mimetype": "text/x-python",
   "name": "python",
   "nbconvert_exporter": "python",
   "pygments_lexer": "ipython3",
   "version": "3.12.6"
  }
 },
 "nbformat": 4,
 "nbformat_minor": 2
}
